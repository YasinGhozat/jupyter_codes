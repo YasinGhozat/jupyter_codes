{
  "cells": [
    {
      "attachments": {},
      "cell_type": "markdown",
      "metadata": {},
      "source": [
        "---"
      ]
    },
    {
      "attachments": {},
      "cell_type": "markdown",
      "metadata": {},
      "source": [
        "# 1\n",
        "Write a program to reverse a string.<br>\n",
        "<p dir=\"rtl\">برنامه‌ای بنویسید که معکوس یک رشته را خروجی دهد.</p>\n",
        "\n",
        "        input: \"name32\" \n",
        "        output: \"23eman\""
      ]
    },
    {
      "cell_type": "code",
      "execution_count": 2,
      "metadata": {},
      "outputs": [
        {
          "name": "stdout",
          "output_type": "stream",
          "text": [
            "85olleh"
          ]
        }
      ],
      "source": [
        "word = input(\"Enter the String:\")\n",
        "length = len(word)\n",
        "for i in range(length-1, -1, -1):\n",
        "    print(word[i], end=\"\")"
      ]
    },
    {
      "attachments": {},
      "cell_type": "markdown",
      "metadata": {},
      "source": [
        "# 2\n",
        "Write a program that takes a list and returns a new list with distinct elements from the first list.<br>\n",
        "<p dir=\"rtl\">برنامه‌ای بنویسید تا یک لیست از ورودی دریافت کند و یک لیست جدید از المان های متفاوت لیست اول را خروجی دهد. (مقادیر تکراری لیست اول را حذف کند)</p>\n",
        "\n",
        "        input: [4, 4, 5, 6, 6, 4, 2, 3, 2, 2, 6, 5, 2]\n",
        "        output: [4, 5, 6, 2, 3]"
      ]
    },
    {
      "cell_type": "code",
      "execution_count": 4,
      "metadata": {},
      "outputs": [
        {
          "name": "stdout",
          "output_type": "stream",
          "text": [
            "['hello', 'world', '85', '85', 'world', '2nd']\n",
            "['hello', 'world', '85', '2nd']\n"
          ]
        }
      ],
      "source": [
        "index_n = int(input(\"How many numbers are in the list:\"))\n",
        "raw_list = []\n",
        "distict_list = []\n",
        "for i in range(index_n):\n",
        "    elements = input(\"Enter your elements:\")\n",
        "    raw_list += [elements]\n",
        "for j in raw_list:\n",
        "    if j in distict_list:\n",
        "        continue\n",
        "    else: distict_list += [j]\n",
        "print(raw_list)\n",
        "print(distict_list)\n"
      ]
    },
    {
      "cell_type": "markdown",
      "metadata": {},
      "source": [
        "# 3\n",
        "Write a program to find numbers common in two lists. <br>\n",
        "<p dir=\"rtl\">برنامه‌ای بنویسید که المان‌های مشترک بین دو لیست رو خروجی دهد.</p>\n",
        "\n",
        "        input: [10, 3, 8, 4, 9, 16, 1, 25, 6], [14, 8, 5, 16, 6, 24, 1, 3, 2, 12]\n",
        "        output: [3, 8, 16, 1, 2, 6]"
      ]
    },
    {
      "cell_type": "code",
      "execution_count": 10,
      "metadata": {},
      "outputs": [
        {
          "name": "stdout",
          "output_type": "stream",
          "text": [
            "[3, 31, 25, 36, 25, 8] [31, 3, 65, 98, 21, 14]\n",
            "[3, 31]\n"
          ]
        }
      ],
      "source": [
        "fst_list = []\n",
        "snd_list = []\n",
        "common_list = []\n",
        "\n",
        "index_n = int(input(\"How many numbers are in the First list?:\"))\n",
        "for i in range(index_n):\n",
        "    fst_nums = int(input(\"Enter them Separately:\"))\n",
        "    fst_list += [fst_nums]\n",
        "\n",
        "index_m = int(input(\"How many numbers are in the Second list?:\"))\n",
        "for j in range(index_m):\n",
        "    snd_nums = int(input(\"Enter them Separately:\"))\n",
        "    snd_list += [snd_nums]\n",
        "\n",
        "for common_num in fst_list:\n",
        "    if common_num in snd_list:\n",
        "        common_list += [common_num]\n",
        "     \n",
        "       \n",
        "\n",
        "print(fst_list, end=\" \")\n",
        "print(snd_list)\n",
        "print(common_list)\n"
      ]
    },
    {
      "attachments": {},
      "cell_type": "markdown",
      "metadata": {},
      "source": [
        "# 4\n",
        "Write a program:<br>\n",
        "Given a string *p_string* which represents an string, <br>\n",
        "that consists of '(', ')'\n",
        "-  Check whether parentheses are properly matched or not, and returns True or False.\n",
        "  - E.g., matched parentheses:\n",
        "      - \"((()))\"\n",
        "      - \"(()())\"\n",
        "      - \"(())()\"\n",
        "      - \"()(())\"\n",
        "      - \"()()()\"\n",
        "<p dir=\"rtl\">برنامه‌ای بنویسید<br>که یک رشته با عنوان p_string از ورودی دریافت کند؛<br>رشته دریافتی متشکل از کرکتر های '(' و ')' می‌باشد.<br>- برنامه شما باید چک کند که این رشته و پرانتز های داخل آن با هم جور در می‌آیند یا خیر و در جواب آن مقادیر true یا false را خروجی دهد.<br>مثال‌های بالا نمونه‌های درست هستند.</p>\n",
        "  "
      ]
    },
    {
      "cell_type": "code",
      "execution_count": 22,
      "metadata": {},
      "outputs": [
        {
          "name": "stdout",
          "output_type": "stream",
          "text": [
            "True\n"
          ]
        }
      ],
      "source": [
        "parentheses = input(\"Enter the String:\")\n",
        "length = len(parentheses)\n",
        "checker = []\n",
        "for i in range(length):\n",
        "    if parentheses[i] == '(':\n",
        "        checker.append(parentheses[i])\n",
        "    elif parentheses[i] == ')':\n",
        "        if checker == []:\n",
        "            is_balanced = False\n",
        "        else:\n",
        "            checker.pop()\n",
        "if checker == []:\n",
        "    print(\"True\")\n",
        "elif is_balanced == False:\n",
        "    print(\"False\")\n",
        "else:\n",
        "    print(\"False\")\n"
      ]
    },
    {
      "cell_type": "markdown",
      "metadata": {},
      "source": [
        "### <font color='yellow'> Hint </font>: You could use `append` and `pop` method for this question."
      ]
    },
    {
      "cell_type": "markdown",
      "metadata": {},
      "source": [
        "## append()\n",
        "Adds an item to the end of the list\n",
        "\n",
        "        list.append(value)"
      ]
    },
    {
      "cell_type": "markdown",
      "metadata": {},
      "source": [
        "## pop()\n",
        "\n",
        "Removes and returns the last value from the List.\n",
        "\n",
        "        list.pop() "
      ]
    },
    {
      "cell_type": "code",
      "execution_count": null,
      "metadata": {},
      "outputs": [],
      "source": []
    },
    {
      "attachments": {},
      "cell_type": "markdown",
      "metadata": {},
      "source": [
        "# 5\n",
        "Write a program that takes a list of elements and a list of indices as input. <br> The program should rearrange the elements in the first list based on the corresponding indices in the second list.\n",
        "<p dir=\"rtl\">برنامه‌ای بنویسید که لیستی از المان‌ها و لیستی از اندیس‌ها را ورودی بگیرد.</br>و سپس لیست اول را براساس اندیس های مربوطه در لیست دوم مرتب کند و آن را خروجی دهد.</p>\n",
        "\n",
        "     input: \n",
        "          ['apple', 'mango', 'peach', 'melon'] \n",
        "          [ 1, 3, 0, 2]\n",
        "     output: \n",
        "          ['peach', 'apple', 'melon', 'mango'] \n",
        "\n",
        "     input: \n",
        "          ['banana', 'cherry', 'apple', 'cherry', 'melon', 'peach', 'mango'] \n",
        "          [ 5, 1, 4, 6, 3, 0, 2]\n",
        "     output: \n",
        "          ['peach', 'cherry', 'mango', 'melon', 'apple', 'banana', 'cherry'] "
      ]
    },
    {
      "cell_type": "code",
      "execution_count": 26,
      "metadata": {},
      "outputs": [
        {
          "name": "stdout",
          "output_type": "stream",
          "text": [
            "Enter their position from 0 to 4\n",
            "['hello', 'hi', 'bye', 'later', 'see you'] [1, 0, 4, 3, 2]\n",
            "['hi', 'hello', 'see you', 'later', 'bye']\n"
          ]
        }
      ],
      "source": [
        "index_n = int(input(\"How many elements are there?:\"))\n",
        "element_list = []\n",
        "index_list = []\n",
        "\n",
        "for i in range(index_n):\n",
        "    element = input(\"Enter them separately:\")\n",
        "    element_list += [element]\n",
        "\n",
        "print(\"Enter their position from 0 to\", index_n - 1 )\n",
        "for j in range(index_n):\n",
        "    index_p = int(input())\n",
        "    index_list += [index_p]\n",
        "\n",
        "element_arrenged = [\"\"] * len(element_list)\n",
        "for z in range(len(element_list)):\n",
        "    element_arrenged[index_list[z]] = element_list[z]\n",
        "\n",
        "print(element_list, index_list)\n",
        "print(element_arrenged)\n"
      ]
    }
  ],
  "metadata": {
    "colab": {
      "name": "Introduction_to_Python.ipynb",
      "provenance": []
    },
    "kernelspec": {
      "display_name": "base",
      "language": "python",
      "name": "python3"
    },
    "language_info": {
      "codemirror_mode": {
        "name": "ipython",
        "version": 3
      },
      "file_extension": ".py",
      "mimetype": "text/x-python",
      "name": "python",
      "nbconvert_exporter": "python",
      "pygments_lexer": "ipython3",
      "version": "3.11.0"
    },
    "vscode": {
      "interpreter": {
        "hash": "9641b9e7d82ef9e90a747ea3e46143353ef03ef3b82b14f08953fd57d9188bc9"
      }
    }
  },
  "nbformat": 4,
  "nbformat_minor": 0
}
