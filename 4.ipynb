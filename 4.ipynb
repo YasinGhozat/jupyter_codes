{
  "cells": [
    {
      "attachments": {},
      "cell_type": "markdown",
      "metadata": {},
      "source": [
        "## 1\n",
        "\n",
        "## Bank Account Management System\n",
        "\n",
        "**Objective**: The objective of this project is to create a simple bank account management system that can perform basic banking operations like creating an account, depositing money, withdrawing money, and checking the balance.\n",
        "\n",
        "**Functional Requirements**:\n",
        "\n",
        "**Account Creation**: The system should be able to create a new bank account. Each account should have a unique identifier (like account holder’s name) and an initial balance.\n",
        "\n",
        "**Deposit Money**: The system should allow depositing money into an existing account. The system should update the account balance accordingly.\n",
        "\n",
        "**Withdraw Money**: The system should allow withdrawing money from an existing account. The system should check if the account has sufficient balance for the withdrawal. If not, it should display an error message. If the account has sufficient balance, the system should update the account balance accordingly.\n",
        "\n",
        "**Check Balance**: The system should allow checking the balance of an existing account.\n",
        "\n",
        "**Error Handling**: The system should handle errors gracefully. For example, if a user tries to withdraw money from a non-existing account, the system should display an appropriate error message."
      ]
    },
    {
      "cell_type": "markdown",
      "metadata": {},
      "source": [
        "## Use functions for implementation."
      ]
    },
    {
      "cell_type": "markdown",
      "metadata": {},
      "source": [
        "Here is an example of program execution:"
      ]
    },
    {
      "cell_type": "markdown",
      "metadata": {},
      "source": [
        "```\n",
        "\n",
        "        1. Create account\n",
        "        2. Deposit money\n",
        "        3. Withdraw money\n",
        "        4. Check balance\n",
        "        5. Exit\n",
        "        Enter your choice: 1\n",
        "        Enter the name for the new account: Ali\n",
        "        Enter the initial balance: 500\n",
        "\n",
        "        1. Create account\n",
        "        2. Deposit money\n",
        "        3. Withdraw money\n",
        "        4. Check balance\n",
        "        5. Exit\n",
        "        Enter your choice: 2\n",
        "        Enter the name of the account: Ali\n",
        "        Enter the amount to deposit: 200\n",
        "\n",
        "        1. Create account\n",
        "        2. Deposit money\n",
        "        3. Withdraw money\n",
        "        4. Check balance\n",
        "        5. Exit\n",
        "        Enter your choice: 4\n",
        "        Enter the name of the account: Ali\n",
        "        Balance:  700\n",
        "\n",
        "        1. Create account\n",
        "        2. Deposit money\n",
        "        3. Withdraw money\n",
        "        4. Check balance\n",
        "        5. Exit\n",
        "        Enter your choice: 5\n",
        "\n",
        "```"
      ]
    },
    {
      "cell_type": "code",
      "execution_count": null,
      "metadata": {},
      "outputs": [],
      "source": []
    }
  ],
  "metadata": {
    "colab": {
      "name": "Introduction_to_Python.ipynb",
      "provenance": []
    },
    "kernelspec": {
      "display_name": "base",
      "language": "python",
      "name": "python3"
    },
    "language_info": {
      "codemirror_mode": {
        "name": "ipython",
        "version": 3
      },
      "file_extension": ".py",
      "mimetype": "text/x-python",
      "name": "python",
      "nbconvert_exporter": "python",
      "pygments_lexer": "ipython3",
      "version": "3.9.13"
    },
    "vscode": {
      "interpreter": {
        "hash": "9641b9e7d82ef9e90a747ea3e46143353ef03ef3b82b14f08953fd57d9188bc9"
      }
    }
  },
  "nbformat": 4,
  "nbformat_minor": 0
}
