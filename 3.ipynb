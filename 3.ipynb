{
  "cells": [
    {
      "cell_type": "markdown",
      "metadata": {},
      "source": [
        "## 1\n",
        "Get a positive integer from user and calculate the sum of its digits."
      ]
    },
    {
      "cell_type": "code",
      "execution_count": 11,
      "metadata": {},
      "outputs": [
        {
          "name": "stdout",
          "output_type": "stream",
          "text": [
            "The summation of digits equals to: 25\n"
          ]
        }
      ],
      "source": [
        "n = int(input(\"Enter your number:\"))\n",
        "if n > 0 :\n",
        "    s = 0\n",
        "    while n > 0 :\n",
        "        digit = n % 10\n",
        "        s += digit\n",
        "        n = n // 10\n",
        "    print(\"The summation of digits equals to:\", s)\n",
        "else :\n",
        "    print(\"Your number must be positive\")"
      ]
    },
    {
      "attachments": {},
      "cell_type": "markdown",
      "metadata": {},
      "source": [
        "## 2\n",
        "Detect perfect numbers in a given range and print them. Get begin and end numbers from the user.  <br>\n",
        "(perfect number: sum of all divisors of the number is equal to twice the number itself) <br>\n",
        "\n",
        "    input: a = 5, b = 10\n",
        "    output: 6"
      ]
    },
    {
      "cell_type": "code",
      "execution_count": 18,
      "metadata": {},
      "outputs": [
        {
          "name": "stdout",
          "output_type": "stream",
          "text": [
            "6\n",
            "28\n"
          ]
        }
      ],
      "source": [
        "a = int(input(\"Enter the first number:\"))\n",
        "b = int(input(\"Enter the last number:\"))\n",
        "\n",
        "for Number in range(a, b + 1):\n",
        "    Sum = 0\n",
        "    for i in range(1, Number//2 + 1):\n",
        "        if Number % i == 0:\n",
        "            Sum += i\n",
        "    if Sum == Number:\n",
        "        print(Number)\n"
      ]
    },
    {
      "attachments": {},
      "cell_type": "markdown",
      "metadata": {},
      "source": [
        "## 3\n",
        "Consider a number between 1 and 100 (inclusive) and allow the user to guess the number. <br>\n",
        "Provide feedback to the user based on their guess, indicating whether the guess is high, low, or correct. <br>\n",
        "The program should continue until the correct number is guessed.<br>\n",
        "\n",
        "    x : 10\n",
        "    Welcome to the Number Guessing Game! \n",
        "    40 \n",
        "    High! Try again. \n",
        "    10  \n",
        "    Low! Try again. \n",
        "    20 \n",
        "    High! Try again. \n",
        "    15\n",
        "    Low! Try again. \n",
        "    18 \n",
        "    Low! Try again.\n",
        "    19 \n",
        "    Congratulations! You guessed the correct number."
      ]
    },
    {
      "cell_type": "code",
      "execution_count": 20,
      "metadata": {},
      "outputs": [
        {
          "name": "stdout",
          "output_type": "stream",
          "text": [
            "Welcome dear number guesser.\n",
            "Try higher!\n",
            "Try higher!\n",
            "Try Lower!\n",
            "Try Lower!\n",
            "Try higher!\n",
            "Congrats! You exactly guessed it!\n"
          ]
        }
      ],
      "source": [
        "print(\"Welcome dear number guesser.\")\n",
        "x = 94\n",
        "y = 0\n",
        "while x != y:\n",
        "    y = int(input(\"Make your guess:\"))\n",
        "    if y > x: print(\"Try Lower!\")\n",
        "    if y < x: print(\"Try higher!\")\n",
        "print(\"Congrats! You exactly guessed it!\")    \n",
        "\n"
      ]
    },
    {
      "attachments": {},
      "cell_type": "markdown",
      "metadata": {},
      "source": [
        "## 4\n",
        "\n",
        "Print the first letter of your first name (beautifully) with loop.\n",
        "\n",
        "output:\n",
        "\n",
        "      * * *\n",
        "      *    *\n",
        "      *    *\n",
        "      * * *\n",
        "      *     *\n",
        "      *     *\n",
        "      *  * *\n",
        "\n",
        "output: \n",
        "\n",
        "      *             *\n",
        "      *  *       *  *\n",
        "      *    *   *    *\n",
        "      *      *      *\n",
        "      *             *\n",
        "      *             *\n"
      ]
    },
    {
      "cell_type": "code",
      "execution_count": 8,
      "metadata": {},
      "outputs": [
        {
          "name": "stdout",
          "output_type": "stream",
          "text": [
            "     *     \n",
            "    * *    \n",
            "   *   *   \n",
            "  *******  \n",
            " *       * \n",
            "*         *\n"
          ]
        }
      ],
      "source": [
        "height = 6\n",
        "width = 11\n",
        "for row in range(height):\n",
        "    for col in range(width):\n",
        "        if row == 0 and col == 5: print(\"*\", end=\"\")\n",
        "        elif row == 1 and (col == 4 or col == 6): print(\"*\", end=\"\")\n",
        "        elif row == 2 and (col == 3 or col == 7): print(\"*\", end=\"\")\n",
        "        elif row == 3 and (col >= 2 and col <= 8): print(\"*\", end=\"\")\n",
        "        elif row == 4 and (col == 1 or col == 9): print(\"*\", end=\"\")\n",
        "        elif row == 5 and (col == 0 or col == 10): print(\"*\", end=\"\")\n",
        "        else: print(\" \", end=\"\")\n",
        "    print()"
      ]
    }
  ],
  "metadata": {
    "colab": {
      "name": "Introduction_to_Python.ipynb",
      "provenance": []
    },
    "kernelspec": {
      "display_name": "base",
      "language": "python",
      "name": "python3"
    },
    "language_info": {
      "codemirror_mode": {
        "name": "ipython",
        "version": 3
      },
      "file_extension": ".py",
      "mimetype": "text/x-python",
      "name": "python",
      "nbconvert_exporter": "python",
      "pygments_lexer": "ipython3",
      "version": "3.11.0"
    },
    "vscode": {
      "interpreter": {
        "hash": "9641b9e7d82ef9e90a747ea3e46143353ef03ef3b82b14f08953fd57d9188bc9"
      }
    }
  },
  "nbformat": 4,
  "nbformat_minor": 0
}
