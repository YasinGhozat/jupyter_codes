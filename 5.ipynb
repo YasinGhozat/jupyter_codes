{
  "cells": [
    {
      "cell_type": "markdown",
      "metadata": {
        "id": "T21Js-I5YFTe"
      },
      "source": [
        "# In the name of God\n"
      ]
    },
    {
      "cell_type": "markdown",
      "metadata": {},
      "source": [
        "<div style=\"font-size: 26px;\">\n",
        "Answer the questions according to the following paragraphs:\n",
        "<p dir=\"rtl\">باتوجه به پاراگراف های زیر به سوالات پاسخ دهید:</p>\n",
        "</div>\n",
        "<span style=\"font-size: 24px; color: DarkOrange;\">paragraph_one:</span><br />\n",
        "<q style=\"font-size: 24px;\"> Python is an interpreted, object-oriented, high-level programming language with dynamic semantics. Its high-level built in data structures, combined with dynamic typing and dynamic binding, make it very attractive for Rapid Application Development, as well as for use as a scripting or glue language to connect existing components together. Python's simple, easy to learn syntax emphasizes readability and therefore reduces the cost of program maintenance. </q><br/><br/>\n",
        "<span style=\"font-size: 24px; color: DarkOrange;\">paragraph_two:</span><br />\n",
        "<q style=\"font-size: 24px;\"> Python programming language can be utilized in many areas of Industrial Engineering ranging from system optimization, forecasting demands of upcoming business product, finding shortest travelling distance for transporting goods from warehouse to the retailers, apply different tools inside the Python ecosystem to improve the overall efficiency of the Supply Chain Management. </q>"
      ]
    },
    {
      "attachments": {},
      "cell_type": "markdown",
      "metadata": {},
      "source": [
        "# 1\n",
        "<div style=\"font-size: 26px;\"> Define a function that takes a paragraph as input and outputs a list of its sentences.\n",
        "<p dir=\"rtl\" style=\"font-size: 16px;\">تابعی تعریف کنید تا یک پاراگراف به عنوان ورودی دریافت کند و لیستی از جملات آن را خروجی دهد.</p>\n",
        "</div>\n",
        "<pre style=\"font-size: 16px; color: BurlyWood;\">\n",
        "        <span style=\"font-size: 20px; color: White;\">input:</span> paragraph_one\n",
        "        <span style=\"font-size: 20px; color: White;\">output:</span> [\"Python is an interpreted, object-oriented, high-level programming language with dynamic semantics.\",\n",
        "                   \"Its high-level built in data structures, combined with dynamic typing and dynamic binding, make it very attractive for Rapid \n",
        "                    Application Development, as well as for use as a scripting or glue language to connect existing components together.\",\n",
        "                   \"Python's simple, easy to learn syntax emphasizes readability and therefore reduces the cost of program maintenance.\"\n",
        "                  ]\n",
        "</pre>"
      ]
    },
    {
      "cell_type": "code",
      "execution_count": 3,
      "metadata": {},
      "outputs": [
        {
          "name": "stdout",
          "output_type": "stream",
          "text": [
            "['Python is an interpreted, object-oriented, high-level programming language with dynamic semantics', ' Its high-level built in data structures, combined with dynamic typing and dynamic binding, make it very attractive for Rapid Application Development, as well as for use as a scripting or glue language to connect existing components together', \" Python's simple, easy to learn syntax emphasizes readability and therefore reduces the cost of program maintenance\", '']\n"
          ]
        }
      ],
      "source": [
        "paragraph_one = \"Python is an interpreted, object-oriented, high-level programming language with dynamic semantics. Its high-level built in data structures, combined with dynamic typing and dynamic binding, make it very attractive for Rapid Application Development, as well as for use as a scripting or glue language to connect existing components together. Python's simple, easy to learn syntax emphasizes readability and therefore reduces the cost of program maintenance.\"\n",
        "paragraph_two = \"Python programming language can be utilized in many areas of Industrial Engineering ranging from system optimization, forecasting demands of upcoming business product, finding shortest travelling distance for transporting goods from warehouse to the retailers, apply different tools inside the Python ecosystem to improve the overall efficiency of the Supply Chain Management.\"\n",
        "\n",
        "def SentenceBreaker(paragraph):\n",
        "    listOfSentence = []\n",
        "    listOfSentence = paragraph.split(\".\")\n",
        "    \n",
        "    return listOfSentence\n",
        "\n",
        "para = input(\"Enter the paragraph:\")\n",
        "if para == \"paragraph_one\":\n",
        "    print(SentenceBreaker(paragraph_one))\n",
        "elif para == \"paragraph_two\":\n",
        "    print(SentenceBreaker(paragraph_two))\n",
        "else:\n",
        "    print(\"error\")"
      ]
    },
    {
      "attachments": {},
      "cell_type": "markdown",
      "metadata": {},
      "source": [
        "# 2\n",
        "<div style=\"font-size: 26px;\"> A: Define a function to take a string as an input and make the first part smaller and the second part bigger.\n",
        "<p dir=\"rtl\" style=\"font-size: 16px;\">تابعی تعریف کنید تا یک رشته را به عنوان ورودی بگیرد و بخش اول آن را کوچک و بخش دوم آن را بزرگ کند.</p>\n",
        "</div>\n",
        "<pre style=\"font-size: 16px; color: BurlyWood;\">\n",
        "        <span style=\"font-size: 20px; color: White;\">input:</span> \"python\"\n",
        "        <span style=\"font-size: 20px; color: White;\">output:</span> \"pytHON\"\n",
        "        <br/>\n",
        "        <span style=\"font-size: 20px; color: White;\">input:</span> \"aPpleS\"\n",
        "        <span style=\"font-size: 20px; color: White;\">output:</span> \"appLES\"\n",
        "        <br/>\n",
        "        <span style=\"font-size: 20px; color: White;\">input:</span> \"stuDEnt\"\n",
        "        <span style=\"font-size: 20px; color: White;\">output:</span> \"stuDENT\"\n",
        "</pre>\n",
        "</br>\n",
        "<div style=\"font-size: 26px;\"> B: Implement the function you defined for each word of <span style=\"color: DarkOrange;\">paragraph_one</span> and <span style=\"color: DarkOrange;\">paragraph_two</span>.\n",
        "<p dir=\"rtl\" style=\"font-size: 16px;\">تابعی که تعریف کردید را برای هر کلمه از پاراگراف های یک و دو پیاده سازی کنید.</p>\n",
        "</div>\n",
        "<pre style=\"font-size: 16px; color: BurlyWood;\">\n",
        "        <span style=\"font-size: 20px; color: White;\">input:</span> paragraph_one\n",
        "        <span style=\"font-size: 20px; color: White;\">output:</span> PytHON iS aN interPRETED, object-ORIENTED, ...\n",
        "</pre>"
      ]
    },
    {
      "cell_type": "code",
      "execution_count": 42,
      "metadata": {},
      "outputs": [
        {
          "name": "stdout",
          "output_type": "stream",
          "text": [
            "qwsDFVB\n"
          ]
        }
      ],
      "source": [
        "paragraph_one = \"Python is an interpreted, object-oriented, high-level programming language with dynamic semantics. Its high-level built in data structures, combined with dynamic typing and dynamic binding, make it very attractive for Rapid Application Development, as well as for use as a scripting or glue language to connect existing components together. Python's simple, easy to learn syntax emphasizes readability and therefore reduces the cost of program maintenance.\"\n",
        "paragraph_two = \"Python programming language can be utilized in many areas of Industrial Engineering ranging from system optimization, forecasting demands of upcoming business product, finding shortest travelling distance for transporting goods from warehouse to the retailers, apply different tools inside the Python ecosystem to improve the overall efficiency of the Supply Chain Management.\"\n",
        "#A:\n",
        "def string_modify(s):\n",
        "    F_half = \"\"\n",
        "    S_half = \"\"\n",
        "    length = len(s)\n",
        "    mid = length//2\n",
        "    for i in range(0, length):\n",
        "        if i < mid:\n",
        "            F_half += s[i]\n",
        "        else:\n",
        "            S_half += s[i]\n",
        "    return F_half.lower() + S_half.upper()\n",
        "\n",
        "exmp_string = input(\"Enter your string :\")\n",
        "print(string_modify(exmp_string))\n",
        "\n"
      ]
    },
    {
      "cell_type": "code",
      "execution_count": 48,
      "metadata": {},
      "outputs": [
        {
          "name": "stdout",
          "output_type": "stream",
          "text": [
            "pytHON iS aN interpRETED, object-oRIENTED, high-LEVEL progrAMMING langUAGE wiTH dynAMIC semanTICS. iTS high-LEVEL buILT iN daTA strucTURES, combINED wiTH dynAMIC typING aND dynAMIC bindING, maKE iT veRY attraCTIVE fOR raPID appliCATION develoPMENT, aS weLL aS fOR uSE aS A scriPTING oR glUE langUAGE tO conNECT exisTING compoNENTS togeTHER. pythON'S simPLE, eaSY tO leARN synTAX emphaSIZES readaBILITY aND therEFORE redUCES tHE coST oF proGRAM mainteNANCE. pytHON iS aN interpRETED, object-oRIENTED, high-LEVEL progrAMMING langUAGE wiTH dynAMIC semanTICS. iTS high-LEVEL buILT iN daTA strucTURES, combINED wiTH dynAMIC typING aND dynAMIC bindING, maKE iT veRY attraCTIVE fOR raPID appliCATION develoPMENT, aS weLL aS fOR uSE aS A scriPTING oR glUE langUAGE tO conNECT exisTING compoNENTS togeTHER. pythON'S simPLE, eaSY tO leARN synTAX emphaSIZES readaBILITY aND therEFORE redUCES tHE coST oF proGRAM mainteNANCE.\n"
          ]
        }
      ],
      "source": [
        "para = input(\"Enter the paragraph:\")\n",
        "if para == \"paragraph_one\":\n",
        "    list_one = paragraph_one.split()\n",
        "    for l in list_one:\n",
        "        modified_list.append(string_modify(l))\n",
        "    print(' '.join(modified_list))\n",
        "elif para == \"paragraph_two\":\n",
        "    list_one = paragraph_one.split()\n",
        "    for l in list_one:\n",
        "    modified_list.append(string_modify(l))\n",
        "\n",
        "print(' '.join(modified_list))\n",
        "else:\n",
        "    print(\"error\") \n"
      ]
    },
    {
      "cell_type": "markdown",
      "metadata": {},
      "source": [
        "# 3\n",
        "<div style=\"font-size: 26px;\"> A: Define a function to take a string as an input and:\n",
        "<ul style=\"font-size: 20px;\">\n",
        "   <li>Deletes all the vowels. (A, O, Y, E, U, I)</li>\n",
        "   <li>Inserts a character ' * ' instead of vowels.</li>\n",
        "</ul>\n",
        "<p dir=\"rtl\" style=\"font-size: 16px;\">تابعی تعریف کنید تا یک رشته را به عنوان ورودی بگیرد و حروف صدادار آن را با ' * ' جایگزین کند.</p>\n",
        "</div>\n",
        "<pre style=\"font-size: 16px; color: BurlyWood;\">\n",
        "        <span style=\"font-size: 20px; color: White;\">input:</span> \"python\"\n",
        "        <span style=\"font-size: 20px; color: White;\">output:</span> \"p*th*n\"\n",
        "        <br/>\n",
        "        <span style=\"font-size: 20px; color: White;\">input:</span> \"programming\"\n",
        "        <span style=\"font-size: 20px; color: White;\">output:</span> \"pr*gr*mm*ng\"\n",
        "</pre>\n",
        "</br>\n",
        "<div style=\"font-size: 26px;\"> B: Implement the function you defined for each word of <span style=\"color: DarkOrange;\">paragraph_one</span> and <span style=\"color: DarkOrange;\">paragraph_two</span>.\n",
        "<p dir=\"rtl\" style=\"font-size: 16px;\">تابعی که تعریف کردید را برای هر کلمه از پاراگراف های یک و دو پیاده سازی کنید.</p>\n",
        "</div>\n",
        "<pre style=\"font-size: 16px; color: BurlyWood;\">\n",
        "        <span style=\"font-size: 20px; color: White;\">input:</span> paragraph_one\n",
        "        <span style=\"font-size: 20px; color: White;\">output:</span> P*th*n *s *n *nt*rpr*t*d, *bj*ct-*r**nt*d, ...\n",
        "</pre>"
      ]
    },
    {
      "cell_type": "code",
      "execution_count": 8,
      "metadata": {},
      "outputs": [
        {
          "name": "stdout",
          "output_type": "stream",
          "text": [
            "h*ll* w*rld\n"
          ]
        }
      ],
      "source": [
        "paragraph_one = \"Python is an interpreted, object-oriented, high-level programming language with dynamic semantics. Its high-level built in data structures, combined with dynamic typing and dynamic binding, make it very attractive for Rapid Application Development, as well as for use as a scripting or glue language to connect existing components together. Python's simple, easy to learn syntax emphasizes readability and therefore reduces the cost of program maintenance.\"\n",
        "paragraph_two = \"Python programming language can be utilized in many areas of Industrial Engineering ranging from system optimization, forecasting demands of upcoming business product, finding shortest travelling distance for transporting goods from warehouse to the retailers, apply different tools inside the Python ecosystem to improve the overall efficiency of the Supply Chain Management.\"\n",
        "#A:\n",
        "def Vowels_To_Stars(old_string):\n",
        "    new_string = old_string.replace('a', '*').replace('e', '*').replace('i', '*').replace('o', '*').replace('u', '*').replace('y', '*').replace('A', '*').replace('E', '*').replace('O', '*').replace('I', '*').replace('U', '*').replace('Y', '*')\n",
        "    print(new_string)\n",
        "\n",
        "exmp_string = input(\"Enter your string :\")\n",
        "Vowels_To_Stars(exmp_string)\n"
      ]
    },
    {
      "attachments": {},
      "cell_type": "markdown",
      "metadata": {},
      "source": [
        "# 4\n",
        "<div style=\"font-size: 26px;\"> A: Define a function to take a string as an input, extract and output its words as in the example.\n",
        "<p dir=\"rtl\" style=\"font-size: 16px;\">تابعی تعریف کنید تا با ورودی گرفتن یک رشته, کلمات آن را همانند مثال استخراج کند و خروجی دهد.</p>\n",
        "</div>\n",
        "<pre style=\"font-size: 16px; color: BurlyWood;\">\n",
        "        <span style=\"font-size: 20px; color: White;\">input:</span> \"Python is the best.\"\n",
        "        <span style=\"font-size: 20px; color: White;\">output:</span> [\"Python: 1\", \"is: 1\", \"the: 1\", \"best: 1\"]\n",
        "        <br/>\n",
        "        <span style=\"font-size: 20px; color: White;\">input:</span> \"Python Python Python\"\n",
        "        <span style=\"font-size: 20px; color: White;\">output:</span> [\"Python: 3\"]\n",
        "</pre>\n",
        "</br>\n",
        "<div style=\"font-size: 26px;\"> B: Implement the function you defined for each sentence of <span style=\"color: DarkOrange;\">paragraph_one</span> and <span style=\"color: DarkOrange;\">paragraph_two</span>.\n",
        "<p dir=\"rtl\" style=\"font-size: 16px;\">تابعی که تعریف کردید را برای هر جمله‌ از پاراگراف های یک و دو پیاده سازی کنید.</p>\n",
        "</div>\n",
        "<pre style=\"font-size: 16px; color: BurlyWood;\">\n",
        "        <span style=\"font-size: 20px; color: White;\">input:</span> paragraph_one\n",
        "        <span style=\"font-size: 20px; color: White;\">output:</span> [[\"Python: 1\", \"is: 1\", ...], [\"Its: 1\", \"high-level: 1\", ...], ...]\n",
        "</pre>"
      ]
    },
    {
      "cell_type": "code",
      "execution_count": null,
      "metadata": {},
      "outputs": [],
      "source": [
        "paragraph_one = \"Python is an interpreted, object-oriented, high-level programming language with dynamic semantics. Its high-level built in data structures, combined with dynamic typing and dynamic binding, make it very attractive for Rapid Application Development, as well as for use as a scripting or glue language to connect existing components together. Python's simple, easy to learn syntax emphasizes readability and therefore reduces the cost of program maintenance.\"\n",
        "paragraph_two = \"Python programming language can be utilized in many areas of Industrial Engineering ranging from system optimization, forecasting demands of upcoming business product, finding shortest travelling distance for transporting goods from warehouse to the retailers, apply different tools inside the Python ecosystem to improve the overall efficiency of the Supply Chain Management.\"\n",
        "\n",
        "def Word_count():\n",
        "    "
      ]
    }
  ],
  "metadata": {
    "colab": {
      "name": "Introduction_to_Python.ipynb",
      "provenance": []
    },
    "kernelspec": {
      "display_name": "base",
      "language": "python",
      "name": "python3"
    },
    "language_info": {
      "codemirror_mode": {
        "name": "ipython",
        "version": 3
      },
      "file_extension": ".py",
      "mimetype": "text/x-python",
      "name": "python",
      "nbconvert_exporter": "python",
      "pygments_lexer": "ipython3",
      "version": "3.11.0"
    },
    "vscode": {
      "interpreter": {
        "hash": "9641b9e7d82ef9e90a747ea3e46143353ef03ef3b82b14f08953fd57d9188bc9"
      }
    }
  },
  "nbformat": 4,
  "nbformat_minor": 0
}
